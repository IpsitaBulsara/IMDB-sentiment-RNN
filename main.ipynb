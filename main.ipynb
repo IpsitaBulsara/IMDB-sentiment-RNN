{
 "cells": [
  {
   "cell_type": "code",
   "execution_count": 1,
   "id": "5a16da2e",
   "metadata": {},
   "outputs": [],
   "source": [
    "from keras.datasets import imdb\n",
    "from keras import Sequential\n",
    "from keras.layers import Dense, SimpleRNN, Embedding, Flatten\n",
    "from tensorflow.keras.preprocessing.sequence import pad_sequences"
   ]
  },
  {
   "cell_type": "code",
   "execution_count": 2,
   "id": "d6971048",
   "metadata": {},
   "outputs": [],
   "source": [
    "(X_train, y_train), (X_test, y_test) = imdb.load_data()"
   ]
  },
  {
   "cell_type": "code",
   "execution_count": 3,
   "id": "b764149a",
   "metadata": {},
   "outputs": [
    {
     "data": {
      "text/plain": [
       "(25000,)"
      ]
     },
     "execution_count": 3,
     "metadata": {},
     "output_type": "execute_result"
    }
   ],
   "source": [
    "X_train.shape"
   ]
  },
  {
   "cell_type": "code",
   "execution_count": 4,
   "id": "cd01a7f6",
   "metadata": {},
   "outputs": [],
   "source": [
    "X_train = pad_sequences(X_train, padding='post')\n",
    "X_test = pad_sequences(X_test, padding='post',maxlen=2494)"
   ]
  },
  {
   "cell_type": "code",
   "execution_count": 5,
   "id": "9ca6cda2",
   "metadata": {},
   "outputs": [
    {
     "data": {
      "text/plain": [
       "(25000, 2494)"
      ]
     },
     "execution_count": 5,
     "metadata": {},
     "output_type": "execute_result"
    }
   ],
   "source": [
    "X_train.shape"
   ]
  },
  {
   "cell_type": "code",
   "execution_count": 6,
   "id": "c4bd0598",
   "metadata": {},
   "outputs": [
    {
     "name": "stdout",
     "output_type": "stream",
     "text": [
      "Model: \"sequential\"\n",
      "_________________________________________________________________\n",
      " Layer (type)                Output Shape              Param #   \n",
      "=================================================================\n",
      " simple_rnn (SimpleRNN)      (None, 32)                1088      \n",
      "                                                                 \n",
      " dense (Dense)               (None, 1)                 33        \n",
      "                                                                 \n",
      "=================================================================\n",
      "Total params: 1,121\n",
      "Trainable params: 1,121\n",
      "Non-trainable params: 0\n",
      "_________________________________________________________________\n"
     ]
    }
   ],
   "source": [
    "model = Sequential()\n",
    "\n",
    "model.add(SimpleRNN(32,input_shape=(2494,1), return_sequences=False))\n",
    "model.add(Dense(1,activation='sigmoid'))\n",
    "\n",
    "model.summary()"
   ]
  },
  {
   "cell_type": "code",
   "execution_count": 7,
   "id": "3baf10f2",
   "metadata": {},
   "outputs": [
    {
     "name": "stdout",
     "output_type": "stream",
     "text": [
      "Epoch 1/20\n",
      "782/782 [==============================] - 1870s 2s/step - loss: 0.6944 - accuracy: 0.5024 - val_loss: 0.6932 - val_accuracy: 0.5025\n",
      "Epoch 2/20\n",
      "782/782 [==============================] - 2003s 3s/step - loss: 0.6935 - accuracy: 0.5008 - val_loss: 0.6937 - val_accuracy: 0.4977\n",
      "Epoch 3/20\n",
      "782/782 [==============================] - 1968s 3s/step - loss: 0.6935 - accuracy: 0.5020 - val_loss: 0.6931 - val_accuracy: 0.5026\n",
      "Epoch 4/20\n",
      "782/782 [==============================] - 1907s 2s/step - loss: 0.6933 - accuracy: 0.5069 - val_loss: 0.6934 - val_accuracy: 0.4982\n",
      "Epoch 5/20\n",
      "782/782 [==============================] - 1932s 2s/step - loss: 0.6934 - accuracy: 0.5011 - val_loss: 0.6935 - val_accuracy: 0.5029\n",
      "Epoch 6/20\n",
      "782/782 [==============================] - 1922s 2s/step - loss: 0.6959 - accuracy: 0.4985 - val_loss: 0.6951 - val_accuracy: 0.4995\n",
      "Epoch 7/20\n",
      "782/782 [==============================] - 1609s 2s/step - loss: 0.6950 - accuracy: 0.4973 - val_loss: 0.6943 - val_accuracy: 0.4956\n",
      "Epoch 8/20\n",
      "782/782 [==============================] - 1548s 2s/step - loss: 0.6939 - accuracy: 0.4998 - val_loss: 0.6934 - val_accuracy: 0.5035\n",
      "Epoch 9/20\n",
      "782/782 [==============================] - 1519s 2s/step - loss: 0.6940 - accuracy: 0.4950 - val_loss: 0.6932 - val_accuracy: 0.5035\n",
      "Epoch 10/20\n",
      "782/782 [==============================] - 1540s 2s/step - loss: 0.6937 - accuracy: 0.5000 - val_loss: 0.6954 - val_accuracy: 0.5044\n",
      "Epoch 11/20\n",
      "782/782 [==============================] - 1539s 2s/step - loss: 0.6940 - accuracy: 0.4966 - val_loss: 0.6939 - val_accuracy: 0.4966\n",
      "Epoch 12/20\n",
      "782/782 [==============================] - 1504s 2s/step - loss: 0.6937 - accuracy: 0.5004 - val_loss: 0.6931 - val_accuracy: 0.5006\n",
      "Epoch 13/20\n",
      "782/782 [==============================] - 1524s 2s/step - loss: 0.6939 - accuracy: 0.4967 - val_loss: 0.6944 - val_accuracy: 0.4968\n",
      "Epoch 14/20\n",
      "782/782 [==============================] - 1493s 2s/step - loss: 0.6937 - accuracy: 0.5071 - val_loss: 0.6945 - val_accuracy: 0.4962\n",
      "Epoch 15/20\n",
      "782/782 [==============================] - 1525s 2s/step - loss: 0.6941 - accuracy: 0.5024 - val_loss: 0.6953 - val_accuracy: 0.4969\n",
      "Epoch 16/20\n",
      "782/782 [==============================] - 1520s 2s/step - loss: 0.6941 - accuracy: 0.4996 - val_loss: 0.6975 - val_accuracy: 0.4961\n",
      "Epoch 17/20\n",
      "782/782 [==============================] - 1501s 2s/step - loss: 0.6945 - accuracy: 0.4991 - val_loss: 0.6942 - val_accuracy: 0.4987\n",
      "Epoch 18/20\n",
      "782/782 [==============================] - 1538s 2s/step - loss: 0.6943 - accuracy: 0.5016 - val_loss: 0.6942 - val_accuracy: 0.5030\n",
      "Epoch 19/20\n",
      "782/782 [==============================] - 1528s 2s/step - loss: 0.6943 - accuracy: 0.4973 - val_loss: 0.6940 - val_accuracy: 0.4952\n",
      "Epoch 20/20\n",
      "782/782 [==============================] - 1495s 2s/step - loss: 0.6939 - accuracy: 0.5070 - val_loss: 0.6963 - val_accuracy: 0.4961\n"
     ]
    },
    {
     "data": {
      "text/plain": [
       "<keras.callbacks.History at 0x20e24193bb0>"
      ]
     },
     "execution_count": 7,
     "metadata": {},
     "output_type": "execute_result"
    }
   ],
   "source": [
    "model.compile(loss='binary_crossentropy', optimizer='adam', metrics=['accuracy'])\n",
    "model.fit(X_train,y_train,epochs=20,validation_data=(X_test,y_test))"
   ]
  }
 ],
 "metadata": {
  "kernelspec": {
   "display_name": "tf-gpu",
   "language": "python",
   "name": "python3"
  },
  "language_info": {
   "codemirror_mode": {
    "name": "ipython",
    "version": 3
   },
   "file_extension": ".py",
   "mimetype": "text/x-python",
   "name": "python",
   "nbconvert_exporter": "python",
   "pygments_lexer": "ipython3",
   "version": "3.10.16"
  }
 },
 "nbformat": 4,
 "nbformat_minor": 5
}
