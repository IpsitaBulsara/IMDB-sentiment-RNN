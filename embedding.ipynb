{
 "cells": [
  {
   "cell_type": "code",
   "execution_count": 1,
   "id": "5a16da2e",
   "metadata": {},
   "outputs": [],
   "source": [
    "from keras.datasets import imdb\n",
    "from keras import Sequential\n",
    "from keras.layers import Dense, SimpleRNN, Embedding, Flatten\n",
    "from tensorflow.keras.preprocessing.sequence import pad_sequences"
   ]
  },
  {
   "cell_type": "code",
   "execution_count": 2,
   "id": "d6971048",
   "metadata": {},
   "outputs": [],
   "source": [
    "(X_train, y_train), (X_test, y_test) = imdb.load_data()"
   ]
  },
  {
   "cell_type": "code",
   "execution_count": 3,
   "id": "b764149a",
   "metadata": {},
   "outputs": [
    {
     "data": {
      "text/plain": [
       "(25000,)"
      ]
     },
     "execution_count": 3,
     "metadata": {},
     "output_type": "execute_result"
    }
   ],
   "source": [
    "X_train.shape"
   ]
  },
  {
   "cell_type": "code",
   "execution_count": 4,
   "id": "cd01a7f6",
   "metadata": {},
   "outputs": [],
   "source": [
    "X_train = pad_sequences(X_train, padding='post')\n",
    "X_test = pad_sequences(X_test, padding='post',maxlen=2494)"
   ]
  },
  {
   "cell_type": "code",
   "execution_count": 5,
   "id": "9ca6cda2",
   "metadata": {},
   "outputs": [
    {
     "data": {
      "text/plain": [
       "(25000, 2494)"
      ]
     },
     "execution_count": 5,
     "metadata": {},
     "output_type": "execute_result"
    }
   ],
   "source": [
    "X_train.shape"
   ]
  },
  {
   "cell_type": "code",
   "execution_count": 6,
   "id": "c4bd0598",
   "metadata": {},
   "outputs": [
    {
     "name": "stdout",
     "output_type": "stream",
     "text": [
      "Model: \"sequential\"\n",
      "_________________________________________________________________\n",
      " Layer (type)                Output Shape              Param #   \n",
      "=================================================================\n",
      " embedding (Embedding)       (None, None, 2)           20000     \n",
      "                                                                 \n",
      " simple_rnn (SimpleRNN)      (None, 32)                1120      \n",
      "                                                                 \n",
      " dense (Dense)               (None, 1)                 33        \n",
      "                                                                 \n",
      "=================================================================\n",
      "Total params: 21,153\n",
      "Trainable params: 21,153\n",
      "Non-trainable params: 0\n",
      "_________________________________________________________________\n"
     ]
    }
   ],
   "source": [
    "model = Sequential()\n",
    "\n",
    "model.add(Embedding(10000, 2))\n",
    "model.add(SimpleRNN(32,input_shape=(2494,1), return_sequences=False))\n",
    "model.add(Dense(1,activation='sigmoid'))\n",
    "\n",
    "model.summary()"
   ]
  },
  {
   "cell_type": "code",
   "execution_count": 7,
   "id": "3baf10f2",
   "metadata": {},
   "outputs": [
    {
     "name": "stdout",
     "output_type": "stream",
     "text": [
      "Epoch 1/20\n",
      "782/782 [==============================] - 2995s 4s/step - loss: 0.6940 - accuracy: 0.5024 - val_loss: 0.6935 - val_accuracy: 0.4998\n",
      "Epoch 2/20\n",
      "782/782 [==============================] - 3148s 4s/step - loss: 0.6937 - accuracy: 0.4983 - val_loss: 0.6944 - val_accuracy: 0.5000\n",
      "Epoch 3/20\n",
      "782/782 [==============================] - 2991s 4s/step - loss: 0.6940 - accuracy: 0.4966 - val_loss: 0.6935 - val_accuracy: 0.4999\n",
      "Epoch 4/20\n",
      "782/782 [==============================] - 2944s 4s/step - loss: 0.6940 - accuracy: 0.5016 - val_loss: 0.6939 - val_accuracy: 0.5012\n",
      "Epoch 5/20\n",
      "782/782 [==============================] - 2432s 3s/step - loss: 0.6939 - accuracy: 0.5034 - val_loss: 0.6949 - val_accuracy: 0.5022\n",
      "Epoch 6/20\n",
      "782/782 [==============================] - 2434s 3s/step - loss: 0.6937 - accuracy: 0.5100 - val_loss: 0.6946 - val_accuracy: 0.5044\n",
      "Epoch 7/20\n",
      "782/782 [==============================] - 2455s 3s/step - loss: 0.6941 - accuracy: 0.5041 - val_loss: 0.6963 - val_accuracy: 0.5000\n",
      "Epoch 8/20\n",
      "782/782 [==============================] - 2406s 3s/step - loss: 0.6947 - accuracy: 0.5012 - val_loss: 0.6936 - val_accuracy: 0.5000\n",
      "Epoch 9/20\n",
      "782/782 [==============================] - 2426s 3s/step - loss: 0.6945 - accuracy: 0.5009 - val_loss: 0.6935 - val_accuracy: 0.5000\n",
      "Epoch 10/20\n",
      "782/782 [==============================] - 2379s 3s/step - loss: 0.6941 - accuracy: 0.5029 - val_loss: 0.6930 - val_accuracy: 0.5000\n",
      "Epoch 11/20\n",
      "782/782 [==============================] - 2448s 3s/step - loss: 0.6942 - accuracy: 0.5000 - val_loss: 0.6935 - val_accuracy: 0.5000\n",
      "Epoch 12/20\n",
      "782/782 [==============================] - 2438s 3s/step - loss: 0.6940 - accuracy: 0.5013 - val_loss: 0.6941 - val_accuracy: 0.5000\n",
      "Epoch 13/20\n",
      "782/782 [==============================] - 2026s 3s/step - loss: 0.6936 - accuracy: 0.5005 - val_loss: 0.6931 - val_accuracy: 0.5000\n",
      "Epoch 14/20\n",
      "782/782 [==============================] - 1354s 2s/step - loss: 0.6939 - accuracy: 0.5030 - val_loss: 0.6940 - val_accuracy: 0.5000\n",
      "Epoch 15/20\n",
      "782/782 [==============================] - 1352s 2s/step - loss: 0.6936 - accuracy: 0.5039 - val_loss: 0.6932 - val_accuracy: 0.5000\n",
      "Epoch 16/20\n",
      "782/782 [==============================] - 1355s 2s/step - loss: 0.6937 - accuracy: 0.5058 - val_loss: 0.6944 - val_accuracy: 0.5000\n",
      "Epoch 17/20\n",
      "782/782 [==============================] - 1385s 2s/step - loss: 0.6938 - accuracy: 0.5055 - val_loss: 0.6932 - val_accuracy: 0.5000\n",
      "Epoch 18/20\n",
      "782/782 [==============================] - 1375s 2s/step - loss: 0.6940 - accuracy: 0.5065 - val_loss: 0.6932 - val_accuracy: 0.5000\n",
      "Epoch 19/20\n",
      "782/782 [==============================] - 1362s 2s/step - loss: 0.6939 - accuracy: 0.5022 - val_loss: 0.6945 - val_accuracy: 0.5000\n",
      "Epoch 20/20\n",
      "782/782 [==============================] - 1348s 2s/step - loss: 0.6939 - accuracy: 0.5014 - val_loss: 0.6932 - val_accuracy: 0.5000\n"
     ]
    },
    {
     "data": {
      "text/plain": [
       "<keras.callbacks.History at 0x212c14be890>"
      ]
     },
     "execution_count": 7,
     "metadata": {},
     "output_type": "execute_result"
    }
   ],
   "source": [
    "model.compile(loss='binary_crossentropy', optimizer='adam', metrics=['accuracy'])\n",
    "model.fit(X_train,y_train,epochs=20,validation_data=(X_test,y_test))"
   ]
  }
 ],
 "metadata": {
  "kernelspec": {
   "display_name": "tf-gpu",
   "language": "python",
   "name": "python3"
  },
  "language_info": {
   "codemirror_mode": {
    "name": "ipython",
    "version": 3
   },
   "file_extension": ".py",
   "mimetype": "text/x-python",
   "name": "python",
   "nbconvert_exporter": "python",
   "pygments_lexer": "ipython3",
   "version": "3.10.16"
  }
 },
 "nbformat": 4,
 "nbformat_minor": 5
}
